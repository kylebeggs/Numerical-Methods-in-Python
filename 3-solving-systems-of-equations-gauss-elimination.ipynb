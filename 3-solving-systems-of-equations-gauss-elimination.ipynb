{
 "cells": [
  {
   "cell_type": "markdown",
   "metadata": {},
   "source": [
    "# Solving Systems of Equations - Gauss Elimination\n",
    "\n",
    "In this notebook we will begin learning how to solve systems of equations. That is\n",
    "$$\\begin{align*} \n",
    "7x_1 + 2x_2 - 3x_3 &= 12 \\\\\n",
    "3x_1 - 8x_2 + 2x_3 &= 4 \\\\\n",
    "-6x_1 + 2x_2 +9x_3 &= 9\n",
    "\\end{align*}$$\n",
    "\n",
    "which we will write in matrix-vector form from now on as $\\mathbf{A}\\mathbf{x}=\\mathbf{b}$\n",
    "\n",
    "$$\n",
    "\\underbrace{\\begin{bmatrix}\n",
    "7 & 2 & -3 \\\\\n",
    "3 & -8 & 2 \\\\\n",
    "-6 & 2 & 9 \\\\\n",
    "\\end{bmatrix}}_{\\mathbf{A}}\n",
    "\\underbrace{\\begin{bmatrix}\n",
    "x_1     \\\\\n",
    "x_2     \\\\\n",
    "x_3     \\\\\n",
    "\\end{bmatrix}}_{\\mathbf{x}}\n",
    "=\n",
    "\\underbrace{\\begin{bmatrix}\n",
    "12     \\\\\n",
    "4     \\\\\n",
    "9     \\\\\n",
    "\\end{bmatrix}}_{\\mathbf{b}}\n",
    "$$\n",
    "\n",
    "The idea behind Gauss Elimination is to transform the system above ($\\mathbf{A}\\mathbf{x}=\\mathbf{b}$) into an \\emph{upper triangular} system ($\\mathbf{A^*}\\mathbf{x}=\\mathbf{b^*}$) as seen below\n",
    "\n",
    "$$\n",
    "\\underbrace{\\begin{bmatrix}\n",
    "A_{11} & A_{12} & A_{13} \\\\\n",
    "0 & A^*_{22} & A^*_{23} \\\\\n",
    "0 & 0 & A^*_{33} \\\\\n",
    "\\end{bmatrix}}_{\\mathbf{A^*}}\n",
    "\\underbrace{\\begin{bmatrix}\n",
    "x_1 \\\\\n",
    "x_2 \\\\\n",
    "x_3 \\\\\n",
    "\\end{bmatrix}}_{\\mathbf{x}}\n",
    "=\n",
    "\\underbrace{\\begin{bmatrix}\n",
    "b^*_1 \\\\\n",
    "b^*_2 \\\\\n",
    "b^*_3 \\\\\n",
    "\\end{bmatrix}}_{\\mathbf{b^*}}\n",
    "$$\n",
    "\n",
    "where any variable with an asterisk such as $\\mathbf{A^*}$ indicates they have been modified from the original system.\n",
    "\n",
    "Once you triangulate the system, you can easily solve for the last variable as\n",
    "$$x_3 = A^*_{33} / b^*_3$$\n",
    "Now that you have solved for $x_3$, you can move your attention to the next row up to solve for $x_2$. Notice how we are moving backwards. Expanding the second equation we get\n",
    "$$A^*_{22}x_2 + A^*_{23}x_3 = b^*_2$$\n",
    "and then re-arranging to solve for $x_2$ we get\n",
    "$$x_2 = \\frac{b^*_2 - A^*_{23}x_3}{A^*_{22}}$$\n",
    "and we can repeat this same idea for each subsequent equation/row above until we find all of the $x_i$. This formula is generalized as\n",
    "$$ x_i = \\frac{b^*_i - \\sum\\limits_{j=i+1}^{N} A^*_{ij}x_j}{A^*_{ii}} $$\n"
   ]
  },
  {
   "cell_type": "markdown",
   "metadata": {},
   "source": []
  }
 ],
 "metadata": {
  "interpreter": {
   "hash": "31f2aee4e71d21fbe5cf8b01ff0e069b9275f58929596ceb00d14d90e3e16cd6"
  },
  "kernelspec": {
   "display_name": "Python 3.8.5 64-bit",
   "name": "python3"
  },
  "language_info": {
   "name": "python",
   "version": ""
  },
  "orig_nbformat": 4
 },
 "nbformat": 4,
 "nbformat_minor": 2
}