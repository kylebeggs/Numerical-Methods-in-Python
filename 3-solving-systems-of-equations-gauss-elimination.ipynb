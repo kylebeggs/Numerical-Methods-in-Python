{
 "cells": [
  {
   "cell_type": "markdown",
   "source": [
    "# Solving Systems of Equations - Gauss Elimination\n",
    "\n",
    "In this notebook we will begin learning how to solve systems of equations. That is\n",
    "$$\\begin{align*} \n",
    "7x_1 + 2x_2 - 3x_3 &= 12 \\\\\n",
    "3x_1 - 8x_2 + 2x_3 &= 4 \\\\\n",
    "-6x_1 + 2x_2 +9x_3 &= 9\n",
    "\\end{align*}$$\n",
    "\n",
    "which we will write in matrix-vector form from now on as $\\mathbf{A}\\mathbf{x}=\\mathbf{b}$\n",
    "\n",
    "$$\n",
    "\\underbrace{\\begin{bmatrix}\n",
    "7 & 2 & -3 \\\\\n",
    "3 & -8 & 2 \\\\\n",
    "-6 & 2 & 9 \\\\\n",
    "\\end{bmatrix}}_{\\mathbf{A}}\n",
    "\\underbrace{\\begin{bmatrix}\n",
    "x_1     \\\\\n",
    "x_2     \\\\\n",
    "x_3     \\\\\n",
    "\\end{bmatrix}}_{\\mathbf{x}}\n",
    "=\n",
    "\\underbrace{\\begin{bmatrix}\n",
    "12     \\\\\n",
    "4     \\\\\n",
    "9     \\\\\n",
    "\\end{bmatrix}}_{\\mathbf{b}}\n",
    "$$\n",
    "\n",
    "The idea behind Gauss Elimination is to transform the system above ($\\mathbf{A}\\mathbf{x}=\\mathbf{b}$) into an \\emph{upper triangular} system ($\\mathbf{A^*}\\mathbf{x}=\\mathbf{b^*}$) as seen below\n",
    "\n",
    "$$\n",
    "\\underbrace{\\begin{bmatrix}\n",
    "A_{11} & A_{12} & A_{13} \\\\\n",
    "0 & A^*_{22} & A^*_{23} \\\\\n",
    "0 & 0 & A^*_{33} \\\\\n",
    "\\end{bmatrix}}_{\\mathbf{A^*}}\n",
    "\\underbrace{\\begin{bmatrix}\n",
    "x_1 \\\\\n",
    "x_2 \\\\\n",
    "x_3 \\\\\n",
    "\\end{bmatrix}}_{\\mathbf{x}}\n",
    "=\n",
    "\\underbrace{\\begin{bmatrix}\n",
    "b_1 \\\\\n",
    "b^*_2 \\\\\n",
    "b^*_3 \\\\\n",
    "\\end{bmatrix}}_{\\mathbf{b^*}}\n",
    "$$\n",
    "\n",
    "where any variable with an asterisk such as $\\mathbf{A^*}$ indicates they have been modified from the original system.\n",
    "\n",
    "Once you triangulate the system, you can easily solve for the last variable as\n",
    "$$x_3 = A^*_{33} / b^*_3$$\n",
    "Now that you have solved for $x_3$, you can move your attention to the next row up to solve for $x_2$. Notice how we are moving backwards. Expanding the second equation we get\n",
    "$$A^*_{22}x_2 + A^*_{23}x_3 = b^*_2$$\n",
    "and then re-arranging to solve for $x_2$ we get\n",
    "$$x_2 = \\frac{b^*_2 - A^*_{23}x_3}{A^*_{22}}$$\n",
    "and we can repeat this same idea for each subsequent equation/row above until we find all of the $x_i$. This formula is generalized as\n",
    "$$ x_i = \\Bigg(b^*_i - \\sum_{j=i+1}^{N} A^*_{ij}x_j \\Bigg) \\quad / \\quad  A^*_{ii} $$\n",
    "\n",
    "\n",
    "\n",
    "Since Gauss Elimination is a direct method (no iterating) the only source of error is round-off error. Of course, we always have round-off error if we are computing, but in iterative methods this round-off gets washed away with every iteration (correction to the solution). Since this does not happen with Gauss Elimination the round-off error accumulates all the way to the final solution. This is both the reason why for small systems Gauss is incredibly accurate (low number of FLOPs), but as the system increases in size round-off becomes significant and at a certain point it produces extremely large errors.\n",
    "\n",
    "Gauss Elimination has algortihmic complexity of $O(n^3)$ so runtime of the code grows to be prohibitively long quickly. This reason, along with round-off error accumulation is why standard procedure is to use direct methods such as Gauss for small systems, but turn to iterative methods for large systems (n > 10k equations)."
   ],
   "metadata": {}
  },
  {
   "cell_type": "code",
   "execution_count": 39,
   "source": [
    "import numpy as np\n",
    "A = np.array([[7.,2,-3],[3,-8,2],[-6,2,9]])\n",
    "b = np.array([12., 4, 9])"
   ],
   "outputs": [],
   "metadata": {}
  },
  {
   "cell_type": "code",
   "execution_count": 40,
   "source": [
    "def gauss(A, b):\n",
    "    N = b.shape[0]\n",
    "    x = np.zeros_like(b)\n",
    "    s = np.zeros_like(b)\n",
    "\n",
    "    for i in range(N - 1):\n",
    "        s = -A[i + 1 : N, i] / A[i, i]\n",
    "        A[i + 1 : N, :] += s[:, np.newaxis] * A[i, :]\n",
    "        b[i + 1 : N] += s * b[i]\n",
    "\n",
    "    x[-1] = b[-1] / A[-1, -1]\n",
    "\n",
    "    for i in range(N - 2, -1, -1):\n",
    "        x[i] = (b[i] - A[i, (i + 1) : N] @ x[(i + 1) : N]) / A[i, i]\n",
    "\n",
    "    return x, A, b"
   ],
   "outputs": [],
   "metadata": {}
  },
  {
   "cell_type": "markdown",
   "source": [
    "Now let's run our test problem created at the beginning of the notebook. We will check our sanity with three things:\n",
    "1. make sure $\\mathbf{A}$ was triangulated correctly by printing it to the screen\n",
    "2. check the residual vector $\\lvert\\mathbf{A}\\mathbf{x}-\\mathbf{b}\\rvert$\n",
    "3. check the solution against a proven solver from another library (i.e. the ```np.linalg.solve``` function)"
   ],
   "metadata": {}
  },
  {
   "cell_type": "code",
   "execution_count": 41,
   "source": [
    "# run the solver for our test problem\n",
    "x, Atri, btri = gauss(A,b)\n",
    "print(\"Triangulated A:\\n\", Atri)\n",
    "print(\"Triangulated b:\\n\", btri)\n",
    "# check the residual\n",
    "print(\"Residual:\\n\", np.abs(A@x-b))\n",
    "print(\"Absolute difference between our Gauss solver and np.linalg.solve()\\n\", x-np.linalg.solve(A,b))"
   ],
   "outputs": [
    {
     "output_type": "stream",
     "name": "stdout",
     "text": [
      "Triangulated A:\n",
      " [[ 7.00000000e+00  2.00000000e+00 -3.00000000e+00]\n",
      " [ 0.00000000e+00 -8.85714286e+00  3.28571429e+00]\n",
      " [ 0.00000000e+00 -4.44089210e-16  7.80645161e+00]]\n",
      "Triangulated b:\n",
      " [12.         -1.14285714 18.80645161]\n",
      "Residual:\n",
      " [0. 0. 0.]\n",
      "Absolute difference between our Gauss solver and np.linalg.solve()\n",
      " [0. 0. 0.]\n"
     ]
    }
   ],
   "metadata": {}
  },
  {
   "cell_type": "markdown",
   "source": [
    "It works!"
   ],
   "metadata": {}
  },
  {
   "cell_type": "markdown",
   "source": [
    "## Where it breaks\n",
    "\n",
    "But not always so great... there are caveats, of course.\n",
    "\n",
    "The first thing to consider is the structure of $\\mathbf{A}$. We can investigate if $\\mathbf{A}$ is *diagonally dominant* which occurs when the magnitude of the diagonal element is greater than the sum of the magnitudes of the off-diagonal elements and this holds true for every row in the matrix. Even if one row is not diagonally dominant, the whole matrix is said to *not* be diagonally dominant. More precisely, $\\mathbf{A}$ is diagonally dominant if\n",
    "$$\n",
    "\\lvert A_{ii}\\rvert > \\sum_{j\\neq i} \\lvert A_{ij}\\rvert \\quad\\text{for all } i $$\n",
    "where $A_{ij}$ denotes the entry in the $i$ row and $j$ column.\n",
    "\n",
    "Lets demonstrate why this is important. Suppose we wanted to solve a system as such\n",
    "\n",
    "$$\n",
    "\\begin{bmatrix}\n",
    "ϵ & 1 \\\\\n",
    "1 & 1\n",
    "\\end{bmatrix}\n",
    "\\begin{bmatrix}\n",
    "x_1 \\\\\n",
    "x_2\n",
    "\\end{bmatrix}\n",
    "=\n",
    "\\begin{bmatrix}\n",
    "1 \\\\\n",
    "2\n",
    "\\end{bmatrix}\n",
    "$$\n",
    "\n",
    "where $\\epsilon$ is extremely small, around machine epsilon (~1e-16 for double precision). If that is the case, the solution should be\n",
    "\n",
    "$$\n",
    "\\mathbf{x} ≈\n",
    "\\begin{bmatrix}\n",
    "1 \\\\\n",
    "1\n",
    "\\end{bmatrix}\n",
    "$$\n",
    "\n",
    "If we perform Gauss Elimination we get the triangulated system\n",
    "\n",
    "$$\n",
    "\\begin{bmatrix}\n",
    "ϵ & 1 \\\\\n",
    "0 & 1-1/ϵ\n",
    "\\end{bmatrix}\n",
    "\\begin{bmatrix}\n",
    "x_1 \\\\\n",
    "x_2\n",
    "\\end{bmatrix}\n",
    "=\n",
    "\\begin{bmatrix}\n",
    "1 \\\\\n",
    "2-1/ϵ\n",
    "\\end{bmatrix}\n",
    "$$\n",
    "\n",
    "and has the solution after backsubstituting\n",
    "\n",
    "$$\n",
    "\\begin{gather*}\n",
    "x_1 &= \\frac{1-x_2}{ϵ} ≈ 0 \\\\\n",
    "x_2 &= \\frac{2 - 1/ϵ}{1-1/ϵ} ≈ 1\n",
    "\\end{gather*}\n",
    "$$\n",
    "\n",
    "which is wrong! Lets see this in action below"
   ],
   "metadata": {}
  },
  {
   "cell_type": "code",
   "execution_count": 42,
   "source": [
    "A = np.array([[1e-17, 1],[1, 1]])\n",
    "b = np.array([1.,2])\n",
    "x, Atri, btri = gauss(A,b)\n",
    "print(\"x = \\n\", x)"
   ],
   "outputs": [
    {
     "output_type": "stream",
     "name": "stdout",
     "text": [
      "x = \n",
      " [0. 1.]\n"
     ]
    }
   ],
   "metadata": {}
  },
  {
   "cell_type": "markdown",
   "source": [
    "but if we use a number greater than machine epsilon such as 1e-15, we get"
   ],
   "metadata": {}
  },
  {
   "cell_type": "code",
   "execution_count": 43,
   "source": [
    "A = np.array([[1e-15, 1],[1, 1]])\n",
    "b = np.array([1.,2])\n",
    "x, Atri, btri = gauss(A,b)\n",
    "print(\"x = \\n\", x)"
   ],
   "outputs": [
    {
     "output_type": "stream",
     "name": "stdout",
     "text": [
      "x = \n",
      " [0.99920072 1.        ]\n"
     ]
    }
   ],
   "metadata": {}
  },
  {
   "cell_type": "markdown",
   "source": [
    "Much better! Now, if all we do is simply switch the rows (pivot) we get the system\n",
    "\n",
    "$$\n",
    "\\begin{bmatrix}\n",
    "1 & 1 \\\\\n",
    "ϵ & 1\n",
    "\\end{bmatrix}\n",
    "\\begin{bmatrix}\n",
    "x_1 \\\\\n",
    "x_2\n",
    "\\end{bmatrix}\n",
    "=\n",
    "\\begin{bmatrix}\n",
    "2 \\\\\n",
    "1\n",
    "\\end{bmatrix}\n",
    "$$\n",
    "\n",
    "which is triangulated as\n",
    "\n",
    "$$\n",
    "\\begin{bmatrix}\n",
    "1 & 1 \\\\\n",
    "0 & 1-ϵ\n",
    "\\end{bmatrix}\n",
    "\\begin{bmatrix}\n",
    "x_1 \\\\\n",
    "x_2\n",
    "\\end{bmatrix}\n",
    "=\n",
    "\\begin{bmatrix}\n",
    "2 \\\\\n",
    "1-ϵ\n",
    "\\end{bmatrix}\n",
    "$$\n",
    "\n",
    "and has the solution after backsubstituting\n",
    "\n",
    "$$\n",
    "\\begin{gather*}\n",
    "x_1 &= 2 - x_2 ≈ 1 \\\\\n",
    "x_2 &= \\frac{1 - 1/ϵ}{1-1/ϵ} ≈ 1\n",
    "\\end{gather*}\n",
    "$$\n",
    "\n"
   ],
   "metadata": {}
  },
  {
   "cell_type": "code",
   "execution_count": 44,
   "source": [
    "\n",
    "A = np.array([[1, 1],[1e-17, 1]])\n",
    "b = np.array([2.,1])\n",
    "x, Atri, btri = gauss(A,b)\n",
    "print(\"x = \\n\", x)"
   ],
   "outputs": [
    {
     "output_type": "stream",
     "name": "stdout",
     "text": [
      "x = \n",
      " [1. 1.]\n"
     ]
    }
   ],
   "metadata": {}
  },
  {
   "cell_type": "markdown",
   "source": [
    "a perfect answer! the reason for this is because we have effectively triangulated the system by switching the rows. Another reason is we avoid diving by an extremely small number (the diagonal) when triangulating. "
   ],
   "metadata": {}
  }
 ],
 "metadata": {
  "interpreter": {
   "hash": "36cf16204b8548560b1c020c4e8fb5b57f0e4c58016f52f2d4be01e192833930"
  },
  "kernelspec": {
   "name": "python3",
   "display_name": "Python 3.9.7 64-bit"
  },
  "language_info": {
   "codemirror_mode": {
    "name": "ipython",
    "version": 3
   },
   "file_extension": ".py",
   "mimetype": "text/x-python",
   "name": "python",
   "nbconvert_exporter": "python",
   "pygments_lexer": "ipython3",
   "version": "3.9.7"
  },
  "orig_nbformat": 4
 },
 "nbformat": 4,
 "nbformat_minor": 2
}