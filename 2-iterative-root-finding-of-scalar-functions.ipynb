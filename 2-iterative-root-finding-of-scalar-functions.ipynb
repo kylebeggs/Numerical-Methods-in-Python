{
 "cells": [
  {
   "cell_type": "markdown",
   "metadata": {},
   "source": [
    "# Root Finding of Scalar Equations\n",
    "This notebook covers algorithms to find the root of scalar equations. The objective is to find $x$ where $f(x) = 0$. The plot below shows an example function: $3x^2+5$."
   ]
  },
  {
   "cell_type": "code",
   "execution_count": 1,
   "metadata": {},
   "outputs": [
    {
     "data": {
      "image/png": "[encoded data removed]",
      "text/plain": [
       "<Figure size 432x288 with 1 Axes>"
      ]
     },
     "metadata": {
      "needs_background": "light"
     },
     "output_type": "display_data"
    }
   ],
   "source": [
    "import numpy as np\n",
    "\n",
    "# define the function to find the roots of\n",
    "def f(x): return 3*x**2 - 5\n",
    "# define the analytical derivative of our function (this is needed for the Newton-Raphson Method)\n",
    "def df(x): return 6*x\n",
    "\n",
    "\n",
    "x = np.linspace(0, 3, num=100)\n",
    "\n",
    "import matplotlib.pyplot as plt\n",
    "plt.plot(x, f(x), x, np.zeros_like(x))\n",
    "plt.xlabel(\"x\")\n",
    "plt.ylabel(\"f(x)\")\n",
    "plt.title(\"Function to find root\")\n",
    "plt.show()\n"
   ]
  },
  {
   "cell_type": "markdown",
   "metadata": {},
   "source": [
    "## Newton-Raphson Method\n",
    "Beginning with some current approximation, $x_i$, we can approximate a new value $f(x_{i+1})$ using the Taylor series\n",
    "$$f(x_{i+1}-x_i) = f(x_i) + f'(x_i) (x_{i+1}-x_i) + f''(x_i) \\frac{(x_{i+1}-x_i)^2}{2!} + f'''(x_i) \\frac{(x_{i+1}-x_i)^3}{3!} + \\cdots$$\n",
    "and after truncating the series we get\n",
    "$$f(x_{i+1}-x_i) = f(x_i) + f'(x_i) (x_{i+1}-x_i)$$\n",
    "and if we want the new value $f(x_{i+1})$ to be the root so that $f(x_{i+1})=0$ we can substitute this in and get\n",
    "$$ 0 = f(x_i) + f'(x_i) (x_{i+1}-x_i)$$\n",
    "which we can re-raange to solve for our new root, $x_{i+1}$\n",
    "$$ x_{i+1} = x_i - \\frac{f(x_i)}{f'(x_i)} $$\n",
    "which we can apply this formula in an iterative manner continuously making our approximation to the root more accurate until we meet some error tolerances such as residual, $R$, and iterative convergence, $C$\n",
    "$$ R = |f(x_{i+1})| < \\delta $$\n",
    "$$ C = |x_{i+1}-x_i| < \\sigma $$\n",
    "where $\\delta$ and $\\sigma$ are some small tolerances. A gif of this process is shown below with the Python code below that.\n",
    "\n",
    "![SegmentLocal](media/NewtonIteration.gif \"segment\")"
   ]
  },
  {
   "cell_type": "code",
   "execution_count": 2,
   "metadata": {},
   "outputs": [
    {
     "name": "stdout",
     "output_type": "stream",
     "text": [
      "iter     x_i+1       |f(x)|          |x_i+1 - x_i|\n",
      "=================================================\n",
      "  0      1.500000    1.750000e+00    1.000010e+00\n",
      "  1      1.305556    1.134259e-01    1.944444e-01\n",
      "  2      1.291076    6.290030e-04    1.447991e-02\n",
      "  3      1.290994    1.977975e-08    8.119883e-05\n",
      "  4      1.290994    0.000000e+00    2.553555e-09\n"
     ]
    }
   ],
   "source": [
    "def newtonRaphson(f, df, guess, conv_tol = 1e-5, res_tol = 1e-5, max_iters = 1e3, verbose=False):\n",
    "    x_new = guess\n",
    "    n = 0\n",
    "    res = np.abs(f(x_new))\n",
    "    conv = conv_tol + 1.\n",
    "    if verbose:\n",
    "        print(\"iter     x_i+1       |f(x)|          |x_i+1 - x_i|\")\n",
    "        print(\"=================================================\")\n",
    "        print(\"{:3d}      {:f}    {:e}    {:e}\".format(n, x_new, res, conv))\n",
    "    while n < max_iters:\n",
    "        x_old = x_new\n",
    "        fval = f(x_old)\n",
    "        dfval = df(x_old)\n",
    "        if np.isnan(dfval):\n",
    "            print('!!! FAILED. Derivative is NaN. Please adjust the initial guess.')\n",
    "            break\n",
    "        if np.abs(dfval) <= np.finfo(float).eps:\n",
    "            print('!!! FAILED. Derivative is 0. Please adjust the initial guess.')\n",
    "            break\n",
    "        x_new = x_old - fval / dfval\n",
    "        conv = np.abs(x_new-x_old)\n",
    "        res = np.abs(f(x_new))\n",
    "        n += 1\n",
    "        if verbose:\n",
    "            print(\"{:3d}      {:f}    {:e}    {:e}\".format(n, x_new, res, conv))\n",
    "        if res <= res_tol and conv <= conv_tol:\n",
    "            break\n",
    "    \n",
    "    return x_new, res, conv, n\n",
    "    \n",
    "x, res, conv, num_iters = newtonRaphson(f, df, 1.5, verbose=True)\n"
   ]
  },
  {
   "cell_type": "markdown",
   "metadata": {},
   "source": [
    "Great! Our code was able to find the root within a tolerance in 3 iterations. Newton's method works very well most fo the time, but it is not without fail. I want to highlight a few cases where Newton Raphson fails.\n",
    "\n",
    "1. infinitely oscillating between values\n",
    "2. encountering a stationary point - divide by 0 error\n",
    "3. poor initial condition that shoots into no mans land\n",
    "   \n",
    "To demonstrate scenario 1, we can try to find the root of $f(x)=x^3-2x+2$ with an initial guess of 0."
   ]
  },
  {
   "cell_type": "code",
   "execution_count": 3,
   "metadata": {},
   "outputs": [
    {
     "data": {
      "image/png": "[encoded data removed]",
      "text/plain": [
       "<Figure size 432x288 with 1 Axes>"
      ]
     },
     "metadata": {
      "needs_background": "light"
     },
     "output_type": "display_data"
    }
   ],
   "source": [
    "def f(x): return x**3 - 2*x + 2\n",
    "def df(x): return 3*x**2 - 2\n",
    "\n",
    "x = np.linspace(-2,2,num=1000)\n",
    "plt.plot(x, f(x), x, np.zeros_like(x))\n",
    "plt.show()\n"
   ]
  },
  {
   "cell_type": "code",
   "execution_count": 4,
   "metadata": {},
   "outputs": [
    {
     "name": "stdout",
     "output_type": "stream",
     "text": [
      "iter     x_i+1       |f(x)|          |x_i+1 - x_i|\n",
      "=================================================\n",
      "  0      0.000000    2.000000e+00    1.000010e+00\n",
      "  1      1.000000    1.000000e+00    1.000000e+00\n",
      "  2      0.000000    2.000000e+00    1.000000e+00\n",
      "  3      1.000000    1.000000e+00    1.000000e+00\n",
      "  4      0.000000    2.000000e+00    1.000000e+00\n",
      "  5      1.000000    1.000000e+00    1.000000e+00\n",
      "  6      0.000000    2.000000e+00    1.000000e+00\n",
      "  7      1.000000    1.000000e+00    1.000000e+00\n",
      "  8      0.000000    2.000000e+00    1.000000e+00\n",
      "  9      1.000000    1.000000e+00    1.000000e+00\n",
      " 10      0.000000    2.000000e+00    1.000000e+00\n"
     ]
    }
   ],
   "source": [
    "x, res, conv, num_iters = newtonRaphson(f, df, 0, max_iters=10, verbose=True)"
   ]
  },
  {
   "cell_type": "markdown",
   "metadata": {},
   "source": [
    "As we can see, the approximation of the root oscillates back and forth between 0 and 1.\n",
    "\n",
    "Now to demonstarte scenario 2 where we have a divide by 0 error we can simply pick a function such as a parabola, $f(x)=x^2-1$, and set the initial guess where the function's derivative would be 0 which is 0."
   ]
  },
  {
   "cell_type": "code",
   "execution_count": 5,
   "metadata": {},
   "outputs": [
    {
     "data": {
      "image/png": "[encoded data removed]",
      "text/plain": [
       "<Figure size 432x288 with 1 Axes>"
      ]
     },
     "metadata": {
      "needs_background": "light"
     },
     "output_type": "display_data"
    }
   ],
   "source": [
    "def f(x): return x**2 - 1\n",
    "def df(x): return 2*x\n",
    "\n",
    "x = np.linspace(-2,2,num=1000)\n",
    "plt.plot(x, f(x), x, np.zeros_like(x))\n",
    "plt.show()"
   ]
  },
  {
   "cell_type": "code",
   "execution_count": 6,
   "metadata": {},
   "outputs": [
    {
     "name": "stdout",
     "output_type": "stream",
     "text": [
      "iter     x_i+1       |f(x)|          |x_i+1 - x_i|\n",
      "=================================================\n",
      "  0      0.000000    1.000000e+00    1.000010e+00\n",
      "!!! FAILED. Derivative is 0. Please adjust the initial guess.\n"
     ]
    }
   ],
   "source": [
    "x, res, conv, num_iters = newtonRaphson(f, df, 0, max_iters=10, verbose=True)"
   ]
  },
  {
   "cell_type": "markdown",
   "metadata": {},
   "source": [
    "Lastly, if we have an asymtotic function on one side such as $f(x)=\\frac{2}{\\sqrt{x}}\\log{\\frac{r}{3.7}+\\frac{2.51}{\\mathrm{Re}\\sqrt{x}}}$, which is the Colebrook equation for finding the friction factor in a pipe, then the tangent line might take you where the function is undefined giving a Not a Number (NaN) error."
   ]
  },
  {
   "cell_type": "code",
   "execution_count": 7,
   "metadata": {},
   "outputs": [
    {
     "data": {
      "image/png": "[encoded data removed]",
      "text/plain": [
       "<Figure size 432x288 with 1 Axes>"
      ]
     },
     "metadata": {
      "needs_background": "light"
     },
     "output_type": "display_data"
    }
   ],
   "source": [
    "Re = 1.8182e5\n",
    "r = 5e-4\n",
    "def f(x): return x**(-0.5) + 2*np.log10(r/3.7 + 2.51/(Re*x**(0.5)))\n",
    "def df(x): return -0.5*x**(-1.5) + (2.51/(Re*x**(0.5)))*x**(-1.5)\n",
    "\n",
    "x = np.linspace(0.0001,0.1,num=1000)\n",
    "plt.plot(x, f(x), x, np.zeros_like(x))\n",
    "plt.show()"
   ]
  },
  {
   "cell_type": "code",
   "execution_count": 8,
   "metadata": {},
   "outputs": [
    {
     "name": "stdout",
     "output_type": "stream",
     "text": [
      "iter     x_i+1       |f(x)|          |x_i+1 - x_i|\n",
      "=================================================\n",
      "  0      0.100000    4.333036e+00    1.000010e+00\n",
      "  1      -0.174069    nan    2.740692e-01\n",
      "!!! FAILED. Derivative is NaN. Please adjust the initial guess.\n"
     ]
    },
    {
     "name": "stderr",
     "output_type": "stream",
     "text": [
      "<ipython-input-7-c3527f9cf0b5>:3: RuntimeWarning: invalid value encountered in double_scalars\n",
      "  def f(x): return x**(-0.5) + 2*np.log10(r/3.7 + 2.51/(Re*x**(0.5)))\n",
      "<ipython-input-7-c3527f9cf0b5>:4: RuntimeWarning: invalid value encountered in double_scalars\n",
      "  def df(x): return -0.5*x**(-1.5) + (2.51/(Re*x**(0.5)))*x**(-1.5)\n"
     ]
    }
   ],
   "source": [
    "x, res, conv, num_iters = newtonRaphson(f, df, 0.1, max_iters=10, verbose=True)"
   ]
  },
  {
   "cell_type": "markdown",
   "metadata": {},
   "source": [
    "For this function, if we choose too high of a guess where the function becomes flat we shoot into the undefined region of the function and Newton-Raphson fails. If we choose a better guess, the method works as seen below."
   ]
  },
  {
   "cell_type": "code",
   "execution_count": 9,
   "metadata": {},
   "outputs": [
    {
     "name": "stdout",
     "output_type": "stream",
     "text": [
      "iter     x_i+1       |f(x)|          |x_i+1 - x_i|\n",
      "=================================================\n",
      "  0      0.030000    1.562277e+00    1.000010e+00\n",
      "  1      0.013762    1.329985e+00    1.623825e-02\n",
      "  2      0.018057    1.944549e-01    4.295263e-03\n",
      "  3      0.019001    2.220372e-03    9.438589e-04\n",
      "  4      0.018989    1.146891e-04    1.163331e-05\n",
      "  5      0.018990    5.865444e-06    6.003444e-07\n"
     ]
    }
   ],
   "source": [
    "x, res, conv, num_iters = newtonRaphson(f, df, 0.03, max_iters=10, verbose=True)"
   ]
  },
  {
   "cell_type": "code",
   "execution_count": null,
   "metadata": {},
   "outputs": [],
   "source": []
  }
 ],
 "metadata": {
  "interpreter": {
   "hash": "31f2aee4e71d21fbe5cf8b01ff0e069b9275f58929596ceb00d14d90e3e16cd6"
  },
  "kernelspec": {
   "display_name": "Python 3.8.5 64-bit",
   "name": "python3"
  },
  "language_info": {
   "codemirror_mode": {
    "name": "ipython",
    "version": 3
   },
   "file_extension": ".py",
   "mimetype": "text/x-python",
   "name": "python",
   "nbconvert_exporter": "python",
   "pygments_lexer": "ipython3",
   "version": "3.8.5"
  },
  "metadata": {
   "interpreter": {
    "hash": "31f2aee4e71d21fbe5cf8b01ff0e069b9275f58929596ceb00d14d90e3e16cd6"
   }
  },
  "orig_nbformat": 2
 },
 "nbformat": 4,
 "nbformat_minor": 2
}